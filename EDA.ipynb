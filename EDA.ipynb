{
 "cells": [
  {
   "cell_type": "markdown",
   "id": "794fd179",
   "metadata": {},
   "source": [
    "NOTE: if you are running this locally, the code here assumes that there are two folders (\"stocks\" and \"etfs\"), as well as a \"symbols_valid_meta.csv\" file. These will not be present if you download the repo, because I've added them to the gitignore. You will need to download the dataset yourself and move the files into this directory if you want to run all these cells yourself.\n",
    "\n",
    "\n",
    "So, this is a NASDAQ dataset from kaggle, found here : https://www.kaggle.com/datasets/jacksoncrow/stock-market-dataset/data <br> Importantly, it's actually divided into three parts- a folder containing ETF data, a folder containing stock data, and a standalone csv containing metadata about symbols. The Stock and ETF data is organized into many CSV files by ticker, so our first priority will be collecting all of those individual CSVs into one file/dataframe for use. Also, as we'll see, almost all of the columns in the metadata are probably unhelpful- \"market category\", for instance, is more than half empty, as is \"financial status\" and \"CQS symbol\". \"Security name\" and \"nasdaq traded\" are also not worth keeping, since *all* of the securities are nasdaq traded, and name is just the name. \"Listing exchange\" could factor in, so we will be retrieving that though. Technically we could determine if a symbol is an ETF when we join everything together later, but it's probably easier to preserve it here. Lot size is also getting dropped- technically, there are 5 stocks which do have small lot sizes, but later we'll be removing thinly traded stocks anyway, so it's not overly relevant.\n",
    "\n",
    "Size wise,this dataset is huge, with over 8000 symbols alone, and each symbol getting its own CSV file with daily quotes on the \"Open\"; \"Close\"; \"High\"; \"Low\"; \"Volume\"; \"Adjusted Close\"(The close price adjusted for any stock splits or dividends); and Date, for 7 columns. The number of rows varies pretty heavily in this- some of the tickers get quotes going all the way back to the 1960s, while some have 2020 as the oldest year with data available, which is a bit of a blessing in disguise as it gives a good way to cull some of the excess data. Additionally, I'm going to be culling thinly traded securities (>200000) traded a year, because conventional wisdom is that those stocks are more prone to rapid price swings."
   ]
  },
  {
   "cell_type": "code",
   "execution_count": 106,
   "id": "a2b633a6",
   "metadata": {},
   "outputs": [
    {
     "name": "stdout",
     "output_type": "stream",
     "text": [
      "<class 'pandas.core.frame.DataFrame'>\n",
      "RangeIndex: 8049 entries, 0 to 8048\n",
      "Data columns (total 3 columns):\n",
      " #   Column            Non-Null Count  Dtype \n",
      "---  ------            --------------  ----- \n",
      " 0   Symbol            8049 non-null   object\n",
      " 1   Listing Exchange  8049 non-null   object\n",
      " 2   ETF               8049 non-null   object\n",
      "dtypes: object(3)\n",
      "memory usage: 188.8+ KB\n",
      "None\n"
     ]
    }
   ],
   "source": [
    "# informational prints are commented out, but feel free to uncomment and run them to get a better idea of what the dataframe is like\n",
    "import pandas as pd\n",
    "import os\n",
    "meta= \"./symbols_valid_meta.csv\"\n",
    "symbol_meta= pd.read_csv(meta)\n",
    "# print(symbol_meta.info())\n",
    "# print(symbol_meta[\"Round Lot Size\"].value_counts())\n",
    "# small_lots=symbol_meta[symbol_meta[\"Round Lot Size\"].isin([10.0, 1.0])==True]\n",
    "# print(\"small\", small_lots)\n",
    "symbol_meta= symbol_meta.drop([\"Nasdaq Traded\",\"Security Name\", \"Round Lot Size\", \"CQS Symbol\", \"NextShares\", \"Financial Status\", \"Test Issue\", \"Market Category\", \"NASDAQ Symbol\"],axis=1)\n",
    "print(symbol_meta.info())\n"
   ]
  },
  {
   "cell_type": "markdown",
   "id": "986292ea",
   "metadata": {},
   "source": [
    "In the interest of being able to work with the data, I probably will need to cut out a few years, going to opt for 2010-2020 for a round 10 year gap, as opposed to the 15 year one given by default. There isn't a quantitative justification for this, it's just really impractical to wait so log just to run simple loading. The 251 offset for last year price is because there are 251 trading days on the stock market, and since we then truncate the dates anyway the missing values are trimmed (every stock has data goi)"
   ]
  },
  {
   "cell_type": "code",
   "execution_count": 110,
   "id": "cb431d27",
   "metadata": {},
   "outputs": [],
   "source": [
    "import glob\n",
    "stock_path= \"./stocks\"\n",
    "etf_path= \"./etfs\"\n",
    "stock_filepaths= list(glob.iglob(\"./stocks/*csv\"))\n",
    "etf_filepaths= list(glob.iglob(\"./etfs/*csv\"))\n",
    "files= stock_filepaths+etf_filepaths\n",
    "# Had to look up how to do joins in pandas on stack exchange lol\n",
    "all_securities= []\n",
    "smallest_date=pd.to_datetime('2099-01-01')\n",
    "for file in files:\n",
    "    # This will always be a string beginning with './stocks' and ending with '.csv', so we can just slice to remove those and get the ticker\n",
    "    ticker= file[9:][:-4]\n",
    "    df= pd.read_csv(file)\n",
    "    # this will be useful later to join each symbol with its metadata\n",
    "    df[\"Symbol\"]=ticker\n",
    "    # normalize date\n",
    "    df[\"Date\"]= pd.to_datetime(df[\"Date\"])\n",
    "    df[\"Year\"]= df[\"Date\"].dt.year\n",
    "\n",
    "    df[\"volume_year\"] = df.groupby([\"Symbol\", \"Year\"])[[\"Adj Close\"]].transform(\"sum\")\n",
    "\n",
    "    min_date= pd.to_datetime(\"2010-01-01\")\n",
    "    # if there isn't at least 10 years of data discard it, and if there are more than 10 years we only keep the 10 from 2010-2020\n",
    "    if df[\"Date\"].min()<min_date:\n",
    "        continue\n",
    "# nasdaq defines a thinly traded stock as having less than 100000 in the last 6 months, so we'll just approach it this way to keep it simple\n",
    "    elif df[\"volume_year\"].min()<200000:\n",
    "        continue\n",
    "    else:\n",
    "        df[\"prev_year_price\"]= df[\"Adj Close\"].shift(-251)\n",
    "        df[\"YTD returns\"]= (df[\"Adj Close\"]/df[\"prev_year_price\"]-1)*100\n",
    "        df.drop(\"prev_year_price\", axis=1)\n",
    "        only_past_2010= df[df[\"Date\"].dt.year>=2010]\n",
    "\n",
    "        all_securities.append(only_past_2010)\n",
    "\n"
   ]
  },
  {
   "cell_type": "markdown",
   "id": "f5595121",
   "metadata": {},
   "source": [
    "This next bit of code is to bring all the csv files together into a single dataframe, including joining the metadata info onto the symbols.\n",
    "\n",
    "This actually turned out to be a bit trickier than I thought, because the CSV files don't store their symbols anywhere, they're just named after the ticker they are data for, so needed to do some extra work to add those back in order to join it properly with the meta stock data."
   ]
  },
  {
   "cell_type": "code",
   "execution_count": 81,
   "id": "83ecb893",
   "metadata": {},
   "outputs": [],
   "source": [
    "all_securities=pd.concat(all_securities)\n",
    "\n",
    "merged_with_meta= pd.merge(all_securities, symbol_meta, on=\"Symbol\", how= \"inner\")"
   ]
  },
  {
   "cell_type": "markdown",
   "id": "3449c6f2",
   "metadata": {},
   "source": [
    "As you can see, we've got all the columns joined together nicely now, and the dataset is reasonably(?) cleaned up and ready for processing."
   ]
  },
  {
   "cell_type": "code",
   "execution_count": null,
   "id": "75088e53",
   "metadata": {},
   "outputs": [
    {
     "name": "stdout",
     "output_type": "stream",
     "text": [
      "<class 'pandas.core.frame.DataFrame'>\n",
      "RangeIndex: 3515911 entries, 0 to 3515910\n",
      "Data columns (total 12 columns):\n",
      " #   Column            Dtype         \n",
      "---  ------            -----         \n",
      " 0   Date              datetime64[ns]\n",
      " 1   Open              float64       \n",
      " 2   High              float64       \n",
      " 3   Low               float64       \n",
      " 4   Close             float64       \n",
      " 5   Adj Close         float64       \n",
      " 6   Volume            float64       \n",
      " 7   Symbol            object        \n",
      " 8   prev_year_price   float64       \n",
      " 9   YTD returns       float64       \n",
      " 10  Listing Exchange  object        \n",
      " 11  ETF               object        \n",
      "dtypes: datetime64[ns](1), float64(8), object(3)\n",
      "memory usage: 321.9+ MB\n",
      "None\n"
     ]
    }
   ],
   "source": [
    "print(merged_with_meta.info())"
   ]
  },
  {
   "cell_type": "code",
   "execution_count": null,
   "id": "0150bbe7",
   "metadata": {},
   "outputs": [
    {
     "data": {
      "image/png": "[encoded data removed]",
      "text/plain": [
       "<Figure size 640x480 with 1 Axes>"
      ]
     },
     "metadata": {},
     "output_type": "display_data"
    }
   ],
   "source": [
    "import matplotlib.pyplot as plt\n",
    "plt.scatter(merged_with_meta[\"volume_year\"], merged_with_meta[\"YTD returns\"], c=\"red\")\n",
    "plt.title(\"Volume(yearly) vs ytd return\")\n",
    "plt.xlabel= \"Volume\"\n",
    "plt.ylabel= \"return(ytd)\"\n",
    "plt.show()\n",
    "\n"
   ]
  },
  {
   "cell_type": "markdown",
   "id": "95cf1a1a",
   "metadata": {},
   "source": [
    "It seems to be at least somewhat correlated- the upper end of returns seems to sit on the highest volume bracket."
   ]
  },
  {
   "cell_type": "code",
   "execution_count": 98,
   "id": "73d676ec",
   "metadata": {},
   "outputs": [
    {
     "data": {
      "image/png": "[encoded data removed]",
      "text/plain": [
       "<Figure size 640x480 with 1 Axes>"
      ]
     },
     "metadata": {},
     "output_type": "display_data"
    }
   ],
   "source": [
    "import matplotlib.pyplot as plt\n",
    "plt.scatter(merged_with_meta[\"Listing Exchange\"], merged_with_meta[\"YTD returns\"], c=\"red\")\n",
    "plt.title(\"Exchange vs ytd return\")\n",
    "plt.xlabel= \"Exchange\"\n",
    "plt.ylabel= \"return(ytd)\"\n",
    "plt.show()\n",
    "\n"
   ]
  },
  {
   "cell_type": "markdown",
   "id": "ebe09609",
   "metadata": {},
   "source": [
    "Seems like it might be worth keeping around at least maybe? If I knew what those symbols stood for I'd probably have more insight, but nothing in the dataset explains it, although speculatively different exchanges prioritize different things- NASDAQ is famously quite tech heavy, for instance."
   ]
  },
  {
   "cell_type": "code",
   "execution_count": 112,
   "id": "316ea148",
   "metadata": {},
   "outputs": [
    {
     "data": {
      "text/html": [
       "<div>\n",
       "<style scoped>\n",
       "    .dataframe tbody tr th:only-of-type {\n",
       "        vertical-align: middle;\n",
       "    }\n",
       "\n",
       "    .dataframe tbody tr th {\n",
       "        vertical-align: top;\n",
       "    }\n",
       "\n",
       "    .dataframe thead th {\n",
       "        text-align: right;\n",
       "    }\n",
       "</style>\n",
       "<table border=\"1\" class=\"dataframe\">\n",
       "  <thead>\n",
       "    <tr style=\"text-align: right;\">\n",
       "      <th></th>\n",
       "      <th>Open</th>\n",
       "      <th>High</th>\n",
       "      <th>Low</th>\n",
       "      <th>Close</th>\n",
       "      <th>Adj Close</th>\n",
       "      <th>Volume</th>\n",
       "      <th>prev_year_price</th>\n",
       "      <th>YTD returns</th>\n",
       "    </tr>\n",
       "  </thead>\n",
       "  <tbody>\n",
       "    <tr>\n",
       "      <th>Open</th>\n",
       "      <td>1.000000</td>\n",
       "      <td>0.998837</td>\n",
       "      <td>0.999166</td>\n",
       "      <td>0.997667</td>\n",
       "      <td>0.997667</td>\n",
       "      <td>-0.001956</td>\n",
       "      <td>0.702898</td>\n",
       "      <td>0.004818</td>\n",
       "    </tr>\n",
       "    <tr>\n",
       "      <th>High</th>\n",
       "      <td>0.998837</td>\n",
       "      <td>1.000000</td>\n",
       "      <td>0.998694</td>\n",
       "      <td>0.998908</td>\n",
       "      <td>0.998908</td>\n",
       "      <td>-0.001955</td>\n",
       "      <td>0.692174</td>\n",
       "      <td>0.004856</td>\n",
       "    </tr>\n",
       "    <tr>\n",
       "      <th>Low</th>\n",
       "      <td>0.999166</td>\n",
       "      <td>0.998694</td>\n",
       "      <td>1.000000</td>\n",
       "      <td>0.998898</td>\n",
       "      <td>0.998898</td>\n",
       "      <td>-0.001960</td>\n",
       "      <td>0.708087</td>\n",
       "      <td>0.004808</td>\n",
       "    </tr>\n",
       "    <tr>\n",
       "      <th>Close</th>\n",
       "      <td>0.997667</td>\n",
       "      <td>0.998908</td>\n",
       "      <td>0.998898</td>\n",
       "      <td>1.000000</td>\n",
       "      <td>1.000000</td>\n",
       "      <td>-0.001957</td>\n",
       "      <td>0.699936</td>\n",
       "      <td>0.004835</td>\n",
       "    </tr>\n",
       "    <tr>\n",
       "      <th>Adj Close</th>\n",
       "      <td>0.997667</td>\n",
       "      <td>0.998908</td>\n",
       "      <td>0.998898</td>\n",
       "      <td>1.000000</td>\n",
       "      <td>1.000000</td>\n",
       "      <td>-0.001957</td>\n",
       "      <td>0.699936</td>\n",
       "      <td>0.004834</td>\n",
       "    </tr>\n",
       "    <tr>\n",
       "      <th>Volume</th>\n",
       "      <td>-0.001956</td>\n",
       "      <td>-0.001955</td>\n",
       "      <td>-0.001960</td>\n",
       "      <td>-0.001957</td>\n",
       "      <td>-0.001957</td>\n",
       "      <td>1.000000</td>\n",
       "      <td>-0.001479</td>\n",
       "      <td>-0.003444</td>\n",
       "    </tr>\n",
       "    <tr>\n",
       "      <th>prev_year_price</th>\n",
       "      <td>0.702898</td>\n",
       "      <td>0.692174</td>\n",
       "      <td>0.708087</td>\n",
       "      <td>0.699936</td>\n",
       "      <td>0.699936</td>\n",
       "      <td>-0.001479</td>\n",
       "      <td>1.000000</td>\n",
       "      <td>0.000471</td>\n",
       "    </tr>\n",
       "    <tr>\n",
       "      <th>YTD returns</th>\n",
       "      <td>0.004818</td>\n",
       "      <td>0.004856</td>\n",
       "      <td>0.004808</td>\n",
       "      <td>0.004835</td>\n",
       "      <td>0.004834</td>\n",
       "      <td>-0.003444</td>\n",
       "      <td>0.000471</td>\n",
       "      <td>1.000000</td>\n",
       "    </tr>\n",
       "  </tbody>\n",
       "</table>\n",
       "</div>"
      ],
      "text/plain": [
       "                     Open      High       Low     Close  Adj Close    Volume  \\\n",
       "Open             1.000000  0.998837  0.999166  0.997667   0.997667 -0.001956   \n",
       "High             0.998837  1.000000  0.998694  0.998908   0.998908 -0.001955   \n",
       "Low              0.999166  0.998694  1.000000  0.998898   0.998898 -0.001960   \n",
       "Close            0.997667  0.998908  0.998898  1.000000   1.000000 -0.001957   \n",
       "Adj Close        0.997667  0.998908  0.998898  1.000000   1.000000 -0.001957   \n",
       "Volume          -0.001956 -0.001955 -0.001960 -0.001957  -0.001957  1.000000   \n",
       "prev_year_price  0.702898  0.692174  0.708087  0.699936   0.699936 -0.001479   \n",
       "YTD returns      0.004818  0.004856  0.004808  0.004835   0.004834 -0.003444   \n",
       "\n",
       "                 prev_year_price  YTD returns  \n",
       "Open                    0.702898     0.004818  \n",
       "High                    0.692174     0.004856  \n",
       "Low                     0.708087     0.004808  \n",
       "Close                   0.699936     0.004835  \n",
       "Adj Close               0.699936     0.004834  \n",
       "Volume                 -0.001479    -0.003444  \n",
       "prev_year_price         1.000000     0.000471  \n",
       "YTD returns             0.000471     1.000000  "
      ]
     },
     "execution_count": 112,
     "metadata": {},
     "output_type": "execute_result"
    }
   ],
   "source": [
    "merged_with_meta.corr(method='pearson',numeric_only=True)"
   ]
  },
  {
   "cell_type": "markdown",
   "id": "24837171",
   "metadata": {},
   "source": [
    "So, this result isn't actually super surprising- The 5 highly correlated variables are all essentially measures of the same thing (the stock price during a given day). Generally speaking, most stocks don't make wild swings during trading hours- there's some interesting literature on this if you want to read about it (https://www.sciencedirect.com/science/article/abs/pii/S1057521922001892) is a good place to start, but the short version is that most of the really big price moving information (earnings, etc) tends to come out while the markets are closed, so the really big gaps tend to be prev days close-> next open. This is also exacerbated a little by the fact that there is still limited trading after hours, meaning that those small amounts of stock that still are traded are more vulnerable to large price swings. As such, it makes intuitive sense that prices don't change much during a day, and since we have many measures of prices during the day, we're going to have many correlated variables.\n",
    "\n",
    "Given how incredibly closely correlated Open, high, low, Close, and adj Close are, I will opt to drop all but adj close (since I base the Year adjustments off of it and keeping it would keep it consistent)"
   ]
  },
  {
   "cell_type": "code",
   "execution_count": null,
   "id": "c78f3819",
   "metadata": {},
   "outputs": [
    {
     "data": {
      "text/html": [
       "<div>\n",
       "<style scoped>\n",
       "    .dataframe tbody tr th:only-of-type {\n",
       "        vertical-align: middle;\n",
       "    }\n",
       "\n",
       "    .dataframe tbody tr th {\n",
       "        vertical-align: top;\n",
       "    }\n",
       "\n",
       "    .dataframe thead th {\n",
       "        text-align: right;\n",
       "    }\n",
       "</style>\n",
       "<table border=\"1\" class=\"dataframe\">\n",
       "  <thead>\n",
       "    <tr style=\"text-align: right;\">\n",
       "      <th></th>\n",
       "      <th>Date</th>\n",
       "      <th>Adj Close</th>\n",
       "      <th>Volume</th>\n",
       "      <th>Symbol</th>\n",
       "      <th>prev_year_price</th>\n",
       "      <th>YTD returns</th>\n",
       "      <th>Listing Exchange</th>\n",
       "      <th>ETF</th>\n",
       "    </tr>\n",
       "  </thead>\n",
       "  <tbody>\n",
       "    <tr>\n",
       "      <th>0</th>\n",
       "      <td>2014-03-28</td>\n",
       "      <td>13.98</td>\n",
       "      <td>9465500.0</td>\n",
       "      <td>TWOU</td>\n",
       "      <td>22.490000</td>\n",
       "      <td>-37.839041</td>\n",
       "      <td>Q</td>\n",
       "      <td>N</td>\n",
       "    </tr>\n",
       "    <tr>\n",
       "      <th>1</th>\n",
       "      <td>2014-03-31</td>\n",
       "      <td>13.65</td>\n",
       "      <td>561000.0</td>\n",
       "      <td>TWOU</td>\n",
       "      <td>23.950001</td>\n",
       "      <td>-43.006266</td>\n",
       "      <td>Q</td>\n",
       "      <td>N</td>\n",
       "    </tr>\n",
       "    <tr>\n",
       "      <th>2</th>\n",
       "      <td>2014-04-01</td>\n",
       "      <td>14.06</td>\n",
       "      <td>467300.0</td>\n",
       "      <td>TWOU</td>\n",
       "      <td>25.580000</td>\n",
       "      <td>-45.035182</td>\n",
       "      <td>Q</td>\n",
       "      <td>N</td>\n",
       "    </tr>\n",
       "    <tr>\n",
       "      <th>3</th>\n",
       "      <td>2014-04-02</td>\n",
       "      <td>15.61</td>\n",
       "      <td>592100.0</td>\n",
       "      <td>TWOU</td>\n",
       "      <td>25.520000</td>\n",
       "      <td>-38.832291</td>\n",
       "      <td>Q</td>\n",
       "      <td>N</td>\n",
       "    </tr>\n",
       "    <tr>\n",
       "      <th>4</th>\n",
       "      <td>2014-04-03</td>\n",
       "      <td>14.15</td>\n",
       "      <td>485200.0</td>\n",
       "      <td>TWOU</td>\n",
       "      <td>25.400000</td>\n",
       "      <td>-44.291339</td>\n",
       "      <td>Q</td>\n",
       "      <td>N</td>\n",
       "    </tr>\n",
       "    <tr>\n",
       "      <th>...</th>\n",
       "      <td>...</td>\n",
       "      <td>...</td>\n",
       "      <td>...</td>\n",
       "      <td>...</td>\n",
       "      <td>...</td>\n",
       "      <td>...</td>\n",
       "      <td>...</td>\n",
       "      <td>...</td>\n",
       "    </tr>\n",
       "    <tr>\n",
       "      <th>3515906</th>\n",
       "      <td>2020-03-26</td>\n",
       "      <td>12.39</td>\n",
       "      <td>3399100.0</td>\n",
       "      <td>T</td>\n",
       "      <td>NaN</td>\n",
       "      <td>NaN</td>\n",
       "      <td>N</td>\n",
       "      <td>N</td>\n",
       "    </tr>\n",
       "    <tr>\n",
       "      <th>3515907</th>\n",
       "      <td>2020-03-27</td>\n",
       "      <td>13.95</td>\n",
       "      <td>4215200.0</td>\n",
       "      <td>T</td>\n",
       "      <td>NaN</td>\n",
       "      <td>NaN</td>\n",
       "      <td>N</td>\n",
       "      <td>N</td>\n",
       "    </tr>\n",
       "    <tr>\n",
       "      <th>3515908</th>\n",
       "      <td>2020-03-30</td>\n",
       "      <td>14.70</td>\n",
       "      <td>4937300.0</td>\n",
       "      <td>T</td>\n",
       "      <td>NaN</td>\n",
       "      <td>NaN</td>\n",
       "      <td>N</td>\n",
       "      <td>N</td>\n",
       "    </tr>\n",
       "    <tr>\n",
       "      <th>3515909</th>\n",
       "      <td>2020-03-31</td>\n",
       "      <td>14.68</td>\n",
       "      <td>3484300.0</td>\n",
       "      <td>T</td>\n",
       "      <td>NaN</td>\n",
       "      <td>NaN</td>\n",
       "      <td>N</td>\n",
       "      <td>N</td>\n",
       "    </tr>\n",
       "    <tr>\n",
       "      <th>3515910</th>\n",
       "      <td>2020-04-01</td>\n",
       "      <td>14.74</td>\n",
       "      <td>4685700.0</td>\n",
       "      <td>T</td>\n",
       "      <td>NaN</td>\n",
       "      <td>NaN</td>\n",
       "      <td>N</td>\n",
       "      <td>N</td>\n",
       "    </tr>\n",
       "  </tbody>\n",
       "</table>\n",
       "<p>3515911 rows × 8 columns</p>\n",
       "</div>"
      ],
      "text/plain": [
       "              Date  Adj Close     Volume Symbol  prev_year_price  YTD returns  \\\n",
       "0       2014-03-28      13.98  9465500.0   TWOU        22.490000   -37.839041   \n",
       "1       2014-03-31      13.65   561000.0   TWOU        23.950001   -43.006266   \n",
       "2       2014-04-01      14.06   467300.0   TWOU        25.580000   -45.035182   \n",
       "3       2014-04-02      15.61   592100.0   TWOU        25.520000   -38.832291   \n",
       "4       2014-04-03      14.15   485200.0   TWOU        25.400000   -44.291339   \n",
       "...            ...        ...        ...    ...              ...          ...   \n",
       "3515906 2020-03-26      12.39  3399100.0      T              NaN          NaN   \n",
       "3515907 2020-03-27      13.95  4215200.0      T              NaN          NaN   \n",
       "3515908 2020-03-30      14.70  4937300.0      T              NaN          NaN   \n",
       "3515909 2020-03-31      14.68  3484300.0      T              NaN          NaN   \n",
       "3515910 2020-04-01      14.74  4685700.0      T              NaN          NaN   \n",
       "\n",
       "        Listing Exchange ETF  \n",
       "0                      Q   N  \n",
       "1                      Q   N  \n",
       "2                      Q   N  \n",
       "3                      Q   N  \n",
       "4                      Q   N  \n",
       "...                  ...  ..  \n",
       "3515906                N   N  \n",
       "3515907                N   N  \n",
       "3515908                N   N  \n",
       "3515909                N   N  \n",
       "3515910                N   N  \n",
       "\n",
       "[3515911 rows x 8 columns]"
      ]
     },
     "execution_count": 115,
     "metadata": {},
     "output_type": "execute_result"
    }
   ],
   "source": [
    "merged_with_meta.drop([\"Open\", \"Close\", \"High\", \"Low\"], axis=1)"
   ]
  },
  {
   "cell_type": "markdown",
   "id": "b0c277ef",
   "metadata": {},
   "source": [
    "The last thing to do now is actually save this as a csv, so we can use it in the main python file with pytorch"
   ]
  },
  {
   "cell_type": "markdown",
   "id": "6462b166",
   "metadata": {},
   "source": [
    "JUST KIDDING I forgot to make a benchmark to train x against, so we'll add YTD earnings>10 for our y_train/test value later"
   ]
  },
  {
   "cell_type": "code",
   "execution_count": null,
   "id": "1baf8e48",
   "metadata": {},
   "outputs": [
    {
     "name": "stdout",
     "output_type": "stream",
     "text": [
      "Beats_spy\n",
      "False    2535727\n",
      "True      980184\n",
      "Name: count, dtype: int64\n"
     ]
    }
   ],
   "source": [
    "merged_with_meta[\"Beats_spy\"]= merged_with_meta[\"YTD returns\"]>10"
   ]
  },
  {
   "cell_type": "code",
   "execution_count": 116,
   "id": "4c28897d",
   "metadata": {},
   "outputs": [],
   "source": [
    "merged_with_meta.to_csv(\"Cleaned_data.csv\")"
   ]
  }
 ],
 "metadata": {
  "kernelspec": {
   "display_name": ".venv",
   "language": "python",
   "name": "python3"
  },
  "language_info": {
   "codemirror_mode": {
    "name": "ipython",
    "version": 3
   },
   "file_extension": ".py",
   "mimetype": "text/x-python",
   "name": "python",
   "nbconvert_exporter": "python",
   "pygments_lexer": "ipython3",
   "version": "3.12.3"
  }
 },
 "nbformat": 4,
 "nbformat_minor": 5
}
