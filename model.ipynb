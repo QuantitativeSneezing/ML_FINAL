{
 "cells": [
  {
   "cell_type": "code",
   "execution_count": 22,
   "id": "a66f541f",
   "metadata": {},
   "outputs": [],
   "source": [
    "import torch\n",
    "import torch.nn as nn\n",
    "import torch.optim as optim\n",
    "from torch.utils.data import TensorDataset, DataLoader\n",
    "import pandas as pd\n",
    "import numpy as np\n",
    "from sklearn.model_selection import train_test_split\n",
    "from sklearn.metrics import confusion_matrix, ConfusionMatrixDisplay\n",
    "import matplotlib.pyplot as plt\n"
   ]
  },
  {
   "cell_type": "markdown",
   "id": "fbe355d2",
   "metadata": {},
   "source": [
    "Little bit of data wrangling here, pandas loads the csv as a dataframe, but scikit learn wants numpy arrays and pytorch needs them to be tensors for actual training."
   ]
  },
  {
   "cell_type": "code",
   "execution_count": 2,
   "id": "307cfdf3",
   "metadata": {},
   "outputs": [],
   "source": [
    "\n",
    "dataset= pd.read_csv(\"Cleaned_data.csv\")\n",
    "# Need to clean the nans from the dataset so the tensors play well with it\n",
    "# last minute because I couldn't make the tensors\n",
    "dataset = dataset.select_dtypes(include='number').dropna()\n",
    "X= dataset.drop([\"Beats_spy\"], axis=1)\n",
    "y= dataset[\"Beats_spy\"]\n",
    "\n",
    "\n",
    "\n",
    "\n",
    "\n",
    "# print(X.info(), y.info())\n",
    "# converting to np arrays because scikit learn expects those\n",
    "X= np.array(X)\n",
    "y= np.array(y)\n",
    "y= y.astype(np.float32)\n",
    "X_train, X_test, y_train, y_test = train_test_split(X, y, test_size=0.1, random_state=16)\n",
    "# print (len(X_train), len(X_test), len(y_train), len(y_test))\n",
    "# now converting those to tensors to finally be able to put them into the model\n",
    "X_train_tensor= torch.tensor(X_train, dtype=torch.float32)\n",
    "y_train_tensor= torch.tensor(y_train, dtype=torch.float32)\n",
    "\n",
    "X_test_tensor= torch.tensor(X_test, dtype=torch.float32)\n",
    "y_test_tensor= torch.tensor(y_test, dtype=torch.float32)"
   ]
  },
  {
   "cell_type": "code",
   "execution_count": 3,
   "id": "3cb9e2fa",
   "metadata": {},
   "outputs": [],
   "source": [
    "# \n",
    "class MLP(torch.nn.Module):\n",
    "    def __init__(self, layer_size, num_layers=2,  input_count=9):\n",
    "        # doesn't work without this\n",
    "        super().__init__()\n",
    "        layers=[]\n",
    "        prev_size= input_count\n",
    "        for i in range(num_layers):\n",
    "            curr_size= layer_size\n",
    "            layers.append(nn.Linear(prev_size,curr_size))\n",
    "            prev_size= curr_size\n",
    "            layers.append(nn.ReLU())\n",
    "        # this is a binary classification so we want the final Layer's output to be True/false\n",
    "        layers.append(nn.Linear(prev_size, 1))\n",
    "        self.model= nn.Sequential(*layers)\n",
    "    def forward(self, X):\n",
    "        return self.model(X)"
   ]
  },
  {
   "cell_type": "code",
   "execution_count": 4,
   "id": "4e12b7d4",
   "metadata": {},
   "outputs": [],
   "source": [
    "def train_model(model, X, y, epochs=3, lr=0.001):\n",
    "    # I would not recommnend running this locally without cuda it takes forever\n",
    "    device = torch.device(\"cuda\" if torch.cuda.is_available() else \"cpu\")\n",
    "\n",
    "    dataset = TensorDataset(X, y)\n",
    "    loader = DataLoader(dataset, batch_size=64, shuffle=True)\n",
    "    criterion= nn.BCEWithLogitsLoss()\n",
    "    optimizer= optim.Adam(model.parameters(), lr)\n",
    "    model.train()\n",
    "    model.to(device)\n",
    "    for i in range(epochs):\n",
    "        print(F\"Currently on batch {i}\")\n",
    "        group_loss= 0.0\n",
    "        for batch_x, batch_y in loader:\n",
    "            batch_x = batch_x.to(device)\n",
    "            batch_y = batch_y.to(device)\n",
    "            optimizer.zero_grad()\n",
    "            outputs= model(batch_x).squeeze()\n",
    "            loss = criterion(outputs, batch_y)\n",
    "            # Conveniently, the backpropagation is an inbuilt at least\n",
    "            loss.backward()\n",
    "            optimizer.step()\n",
    "            group_loss += loss.item()\n",
    "\n"
   ]
  },
  {
   "cell_type": "code",
   "execution_count": 5,
   "id": "d3016eee",
   "metadata": {},
   "outputs": [
    {
     "name": "stdout",
     "output_type": "stream",
     "text": [
      "Currently on batch 0\n",
      "Currently on batch 1\n",
      "Currently on batch 2\n"
     ]
    }
   ],
   "source": [
    "test_model= MLP(10,10)\n",
    "train_model(test_model, X_train_tensor, y_train_tensor)\n",
    "\n"
   ]
  },
  {
   "cell_type": "code",
   "execution_count": 59,
   "id": "349b42b3",
   "metadata": {},
   "outputs": [
    {
     "data": {
      "text/plain": [
       "MLP(\n",
       "  (model): Sequential(\n",
       "    (0): Linear(in_features=9, out_features=11, bias=True)\n",
       "    (1): ReLU()\n",
       "    (2): Linear(in_features=11, out_features=6, bias=True)\n",
       "    (3): ReLU()\n",
       "    (4): Linear(in_features=6, out_features=4, bias=True)\n",
       "    (5): ReLU()\n",
       "    (6): Linear(in_features=4, out_features=3, bias=True)\n",
       "    (7): ReLU()\n",
       "    (8): Linear(in_features=3, out_features=3, bias=True)\n",
       "    (9): ReLU()\n",
       "    (10): Linear(in_features=3, out_features=2, bias=True)\n",
       "    (11): ReLU()\n",
       "    (12): Linear(in_features=2, out_features=2, bias=True)\n",
       "    (13): ReLU()\n",
       "    (14): Linear(in_features=2, out_features=2, bias=True)\n",
       "    (15): ReLU()\n",
       "    (16): Linear(in_features=2, out_features=2, bias=True)\n",
       "    (17): ReLU()\n",
       "    (18): Linear(in_features=2, out_features=2, bias=True)\n",
       "    (19): ReLU()\n",
       "    (20): Linear(in_features=2, out_features=1, bias=True)\n",
       "  )\n",
       ")"
      ]
     },
     "execution_count": 59,
     "metadata": {},
     "output_type": "execute_result"
    }
   ],
   "source": [
    "test_model.eval()"
   ]
  },
  {
   "cell_type": "markdown",
   "id": "24a1f45f",
   "metadata": {},
   "source": [
    "Big problem here, as you'll see soon- the model weights haven't changed at all. That is, they are all identical, and running the predict function gives us a single value (the default one on initialization). Most likely, it's a product of the few epochs+ the small number of explanatory variables available, since there are really only 2 values in the dataset, and it's pretty unlikely we'll be able to predict year long price trends based on a single day of data. The small number of epochs should be mentioned too- ideally, I'd give it more time and also run ray tune to change the hyperparameters to see if that changed anything, but this is unfeasible for time reasons- I have never been able to train a model with more than 3 epochs, and even at that small number it takes 11 minutes (with gpu acceleration enabled, too). Ideally, I'd run a bunch of models and try and narrow down performance, but this is simply technically unfeasible with the equipment and timeframe I have."
   ]
  },
  {
   "cell_type": "code",
   "execution_count": null,
   "id": "009f9123",
   "metadata": {},
   "outputs": [],
   "source": [
    "\n",
    "\n",
    "with torch.no_grad():\n",
    "    X_test_tensor= X_test_tensor.to(device=\"cuda\")\n",
    "    y_test_tensor= y_test_tensor.to(device=\"cuda\")\n",
    "    predictions= test_model(X_test_tensor)\n",
    "    not_logits= torch.sigmoid(predictions)\n",
    "    float_preds=(not_logits>0.5).float()\n",
    "\n",
    "    # print(score(predictions, y_test_tensor))\n",
    "    # print(predictions.unique())"
   ]
  },
  {
   "cell_type": "code",
   "execution_count": 13,
   "id": "24b7511b",
   "metadata": {},
   "outputs": [
    {
     "name": "stdout",
     "output_type": "stream",
     "text": [
      "0.64504793372877\n"
     ]
    }
   ],
   "source": [
    "def score(predictions, actual):\n",
    "    total_right=0\n",
    "    for prediction, actual_val in zip(predictions,actual):\n",
    "        if prediction== actual_val:\n",
    "            total_right+=1\n",
    "    return total_right/len(actual)\n",
    "print(score(float_preds, y_test))\n",
    "# print(y_test[0], float_preds[0])\n",
    "# print(y_test[0]==float_preds[0])"
   ]
  },
  {
   "cell_type": "code",
   "execution_count": null,
   "id": "39cce527",
   "metadata": {},
   "outputs": [
    {
     "data": {
      "image/png": "[encoded data removed]",
      "text/plain": [
       "<Figure size 640x480 with 1 Axes>"
      ]
     },
     "metadata": {},
     "output_type": "display_data"
    }
   ],
   "source": [
    "float_preds_is_stuck_in_cuda= float_preds.cpu().numpy()\n",
    "confusion = confusion_matrix(y_test, float_preds_is_stuck_in_cuda)\n",
    "print(confusion)\n",
    "plot_matrix = ConfusionMatrixDisplay(confusion_matrix=confusion, display_labels=[\"doesn't beat\", \"Beats\"])\n",
    "plt.title(\"Confusion matrix for stock predictor\")\n",
    "plt.show()\n"
   ]
  }
 ],
 "metadata": {
  "kernelspec": {
   "display_name": ".venv",
   "language": "python",
   "name": "python3"
  },
  "language_info": {
   "codemirror_mode": {
    "name": "ipython",
    "version": 3
   },
   "file_extension": ".py",
   "mimetype": "text/x-python",
   "name": "python",
   "nbconvert_exporter": "python",
   "pygments_lexer": "ipython3",
   "version": "3.12.3"
  }
 },
 "nbformat": 4,
 "nbformat_minor": 5
}
