{
 "cells": [
  {
   "cell_type": "markdown",
   "id": "98d8096b",
   "metadata": {},
   "source": [
    "Ever since Harry Markowitz' landmark portfolio theory paper in 1952, people have sought to apply quantitative methods to the stock market to achieve returns. The long history of the quantitative approach to investing means that there's a pretty extensive range of explanatory (and non explanatory) variables readily available, meaning it's a pretty fertile ground for training an AI with. Aside from the ease of data access, the stock market gives us another easy thing- a benchmark which we can measure against. On average, the market has gained roughly 10% a year, which means that a goal of being able to identify stocks with a greater return than that is a pretty obvious one. <br><br> Naturally, if it was as easy as feeding data to an AI model, we'd all by millionaires by now, but the market is notoriously difficult to predict, so a more reasonable goal will be choosing stocks which will outperform at a rate at least better than true randomness (50%). Outside of the model's performance, I'm also aiming to better wrangle time series data (which stock prices naturally are), as well as get some hands on experience working with neural networks, which seem to be quite popular these days.  "
   ]
  },
  {
   "cell_type": "markdown",
   "id": "094b79a4",
   "metadata": {},
   "source": [
    "Before I can do any of that though, I'll need to clean up and organize the data, which I'll be doing in the EDA notebook, so head there for a writeup on the data"
   ]
  }
 ],
 "metadata": {
  "language_info": {
   "name": "python"
  }
 },
 "nbformat": 4,
 "nbformat_minor": 5
}
