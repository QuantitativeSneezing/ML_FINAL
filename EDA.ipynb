{
 "cells": [
  {
   "cell_type": "markdown",
   "id": "794fd179",
   "metadata": {},
   "source": [
    "So, this is a NASDAQ dataset from kaggle, found here : https://www.kaggle.com/datasets/jacksoncrow/stock-market-dataset/data <br> Importantly, it's actually divided into three parts- a folder containing ETF data, a folder containing stock data, and a folder containing metadata about symbols"
   ]
  },
  {
   "cell_type": "code",
   "execution_count": null,
   "id": "cb431d27",
   "metadata": {
    "vscode": {
     "languageId": "plaintext"
    }
   },
   "outputs": [],
   "source": [
    "import pandas as pd"
   ]
  }
 ],
 "metadata": {
  "language_info": {
   "name": "python"
  }
 },
 "nbformat": 4,
 "nbformat_minor": 5
}
