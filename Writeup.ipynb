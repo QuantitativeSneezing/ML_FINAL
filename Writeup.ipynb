{
 "cells": [
  {
   "cell_type": "markdown",
   "id": "98d8096b",
   "metadata": {},
   "source": [
    "Ever since Harry Markowitz' landmark portfolio theory paper in 1952, people have sought to apply "
   ]
  }
 ],
 "metadata": {
  "language_info": {
   "name": "python"
  }
 },
 "nbformat": 4,
 "nbformat_minor": 5
}
