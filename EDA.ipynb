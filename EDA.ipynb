{
 "cells": [
  {
   "cell_type": "markdown",
   "id": "794fd179",
   "metadata": {},
   "source": [
    "So, this is a NASDAQ dataset from kaggle, found here : https://www.kaggle.com/datasets/jacksoncrow/stock-market-dataset/data <br> Importantly, it's actually divided into three parts- a folder containing ETF data, a folder containing stock data, and a standalone csv containing metadata about symbols. The Stock and ETF data is organized into many CSV files by ticker, so our first priority will be collecting all of those individual CSVs into one file/dataframe for use. Also, as we'll see, almost all of the columns in the metadata are probably unhelpful- \"market category\", for instance, is more than half empty, as is \"financial status\" and \"CQS symbol\". \"Security name\" and \"nasdaq traded\" are also not worth keeping, since *all* of the securities are nasdaq traded, and name is just the name. \"Listing exchange\" could factor in, so we will be retrieving that though. Technically we could determine if a symbol is an ETF when we join everything together later, but it's probably easier to preserve it here. Lot size is also getting dropped- technically, there are 5 stocks which do have small lot sizes, but later we'll be removing thinly traded stocks anyway, so it's not overly relevant."
   ]
  },
  {
   "cell_type": "code",
   "execution_count": 20,
   "id": "a2b633a6",
   "metadata": {},
   "outputs": [
    {
     "name": "stdout",
     "output_type": "stream",
     "text": [
      "<class 'pandas.core.frame.DataFrame'>\n",
      "RangeIndex: 8049 entries, 0 to 8048\n",
      "Data columns (total 3 columns):\n",
      " #   Column            Non-Null Count  Dtype \n",
      "---  ------            --------------  ----- \n",
      " 0   Symbol            8049 non-null   object\n",
      " 1   Listing Exchange  8049 non-null   object\n",
      " 2   ETF               8049 non-null   object\n",
      "dtypes: object(3)\n",
      "memory usage: 188.8+ KB\n",
      "None\n"
     ]
    }
   ],
   "source": [
    "# informational prints are commented out, but feel free to uncomment and run them to get a better idea of what the dataframe is like\n",
    "import pandas as pd\n",
    "import os\n",
    "meta= \"./symbols_valid_meta.csv\"\n",
    "symbol_meta= pd.read_csv(meta)\n",
    "# print(symbol_meta.info())\n",
    "# print(symbol_meta[\"Round Lot Size\"].value_counts())\n",
    "# small_lots=symbol_meta[symbol_meta[\"Round Lot Size\"].isin([10.0, 1.0])==True]\n",
    "# print(\"small\", small_lots)\n",
    "symbol_meta= symbol_meta.drop([\"Nasdaq Traded\",\"Security Name\", \"Round Lot Size\", \"CQS Symbol\", \"NextShares\", \"Financial Status\", \"Test Issue\", \"Market Category\", \"NASDAQ Symbol\"],axis=1)\n",
    "print(symbol_meta.info())\n",
    "\n"
   ]
  },
  {
   "cell_type": "code",
   "execution_count": null,
   "id": "cb431d27",
   "metadata": {},
   "outputs": [],
   "source": [
    "stock_path= \"./stocks\"\n",
    "etf_path= \"./etfs\"\n",
    "\n"
   ]
  }
 ],
 "metadata": {
  "kernelspec": {
   "display_name": ".venv",
   "language": "python",
   "name": "python3"
  },
  "language_info": {
   "codemirror_mode": {
    "name": "ipython",
    "version": 3
   },
   "file_extension": ".py",
   "mimetype": "text/x-python",
   "name": "python",
   "nbconvert_exporter": "python",
   "pygments_lexer": "ipython3",
   "version": "3.12.3"
  }
 },
 "nbformat": 4,
 "nbformat_minor": 5
}
